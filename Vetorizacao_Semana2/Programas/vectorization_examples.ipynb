{
 "cells": [
  {
   "cell_type": "code",
   "execution_count": 46,
   "outputs": [],
   "source": [
    "import numpy as np\n",
    "import time"
   ],
   "metadata": {
    "collapsed": false,
    "pycharm": {
     "name": "#%%\n"
    }
   }
  },
  {
   "cell_type": "code",
   "execution_count": 47,
   "outputs": [],
   "source": [
    "w = np.random.rand(1000000)\n",
    "X = np.random.rand(1000000)\n",
    "b = np.random.randint(1, 1000)\n",
    "z = 0\n",
    "\n",
    "sampleNumber = 50"
   ],
   "metadata": {
    "collapsed": false,
    "pycharm": {
     "name": "#%%\n"
    }
   }
  },
  {
   "cell_type": "code",
   "execution_count": 48,
   "outputs": [
    {
     "name": "stdout",
     "output_type": "stream",
     "text": [
      "Z calculado pelo modo não vetorizado: 250218.66\n"
     ]
    }
   ],
   "source": [
    "# Implementação da regressão logística (z = Wt X + b)\n",
    "\n",
    "# Não vetorizado:\n",
    "nonVectorizedTime = 0\n",
    "\n",
    "for i in range(sampleNumber):\n",
    "    z = 0\n",
    "    tic = time.time_ns() # marcando o tempo antes de calcular a regressão logística\n",
    "    for i in range(w.size):\n",
    "        z += w[i] * X[i]\n",
    "    z += b\n",
    "    toc = time.time_ns() # marcando o tempo depois de calcular a regressão logistica\n",
    "    nonVectorizedTime += toc - tic\n",
    "\n",
    "print(f\"Z calculado pelo modo não vetorizado: {z:.2f}\")\n",
    "nonVectorizedTime /= sampleNumber"
   ],
   "metadata": {
    "collapsed": false,
    "pycharm": {
     "name": "#%%\n"
    }
   }
  },
  {
   "cell_type": "code",
   "execution_count": 49,
   "outputs": [
    {
     "name": "stdout",
     "output_type": "stream",
     "text": [
      "Z calculado pelo modo vetorizado: 250218.66\n"
     ]
    }
   ],
   "source": [
    "vectorizedTime = 0\n",
    "\n",
    "for i in range(sampleNumber):\n",
    "    z = 0\n",
    "    tic = time.time_ns()\n",
    "    z = np.dot(w, X) + b\n",
    "    toc = time.time_ns()\n",
    "    vectorizedTime += toc - tic\n",
    "\n",
    "print(f\"Z calculado pelo modo vetorizado: {z:.2f}\")\n",
    "vectorizedTime /= sampleNumber"
   ],
   "metadata": {
    "collapsed": false,
    "pycharm": {
     "name": "#%%\n"
    }
   }
  },
  {
   "cell_type": "code",
   "execution_count": 57,
   "outputs": [
    {
     "name": "stdout",
     "output_type": "stream",
     "text": [
      "Tempo consumido para o cálculo da regressão logística:\n",
      "Algoritmo não vetorizado: 253.14 ms\n",
      "Algoritmo vetorizado    : 0.20 ms\n",
      "Ganho do vetorizado em relação ao outro: ~1267 vezes mais rápido\n"
     ]
    }
   ],
   "source": [
    "print(f\"Tempo consumido para o cálculo da regressão logística:\"\n",
    "      f\"\\nAlgoritmo não vetorizado: {nonVectorizedTime/1e6:.2f} ms\"\n",
    "      f\"\\nAlgoritmo vetorizado    : {vectorizedTime/1e6:.2f} ms\"\n",
    "      f\"\\nGanho do vetorizado em relação ao outro: ~{nonVectorizedTime/vectorizedTime:.0f} vezes mais rápido\")"
   ],
   "metadata": {
    "collapsed": false,
    "pycharm": {
     "name": "#%%\n"
    }
   }
  },
  {
   "cell_type": "code",
   "execution_count": 50,
   "outputs": [],
   "source": [],
   "metadata": {
    "collapsed": false,
    "pycharm": {
     "name": "#%%\n"
    }
   }
  }
 ],
 "metadata": {
  "kernelspec": {
   "display_name": "Python 3",
   "language": "python",
   "name": "python3"
  },
  "language_info": {
   "codemirror_mode": {
    "name": "ipython",
    "version": 2
   },
   "file_extension": ".py",
   "mimetype": "text/x-python",
   "name": "python",
   "nbconvert_exporter": "python",
   "pygments_lexer": "ipython2",
   "version": "2.7.6"
  }
 },
 "nbformat": 4,
 "nbformat_minor": 0
}