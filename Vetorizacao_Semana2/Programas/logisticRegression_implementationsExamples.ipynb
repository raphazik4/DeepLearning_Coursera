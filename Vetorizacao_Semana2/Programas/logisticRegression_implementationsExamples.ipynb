{
 "cells": [
  {
   "cell_type": "code",
   "execution_count": 1,
   "metadata": {
    "collapsed": true
   },
   "outputs": [],
   "source": [
    "import math\n",
    "import numpy as np\n",
    "import random"
   ]
  },
  {
   "cell_type": "code",
   "execution_count": 2,
   "outputs": [],
   "source": [
    "# Funções úteis\n",
    "\n",
    "def sigmoid(x):\n",
    "    return 1 / (1 + math.exp(-x))\n",
    "\n",
    "def lostFunction(expectedResult, calculatedResult):\n",
    "    termo1 = expectedResult * math.log10(calculatedResult)\n",
    "    termo2 = (1-expectedResult) * math.log10(1-calculatedResult)\n",
    "    return -((termo1) + (termo2))\n",
    "\n",
    "def randomList(size, min = 0, max = 255):\n",
    "    list = []\n",
    "    for i in range(size):\n",
    "        list.append(random.randint(min,max))\n",
    "    return list"
   ],
   "metadata": {
    "collapsed": false,
    "pycharm": {
     "name": "#%%\n"
    }
   }
  },
  {
   "cell_type": "code",
   "execution_count": 3,
   "outputs": [
    {
     "name": "stderr",
     "output_type": "stream",
     "text": [
      "C:\\Users\\rapha\\AppData\\Local\\Temp/ipykernel_30416/3852984143.py:10: VisibleDeprecationWarning: Creating an ndarray from ragged nested sequences (which is a list-or-tuple of lists-or-tuples-or ndarrays with different lengths or shapes) is deprecated. If you meant to do this, you must specify 'dtype=object' when creating the ndarray.\n",
      "  x = np.array( [inputList, randomList(vectorSize, 0, 1)]) # Valores de entrada ([x1, x2, ..., xn], y)\n"
     ]
    }
   ],
   "source": [
    "# Variáveis\n",
    "vectorSize = 2000\n",
    "nFeatures = 20\n",
    "\n",
    "inputList = []\n",
    "for i in range(vectorSize):\n",
    "    inputList.append(randomList(nFeatures, 0, 3)) # Features da entrada (pode ser uma imagem, sons, etc.)\n",
    "adjustList = []\n",
    "\n",
    "x = np.array( [inputList, randomList(vectorSize, 0, 1)]) # Valores de entrada ([x1, x2, ..., xn], y)\n",
    "w = np.zeros(nFeatures)                                  # Parâmetros de ajuste dos dados de treinamento\n",
    "b = [0]                                                  # Parâmetro de ajuste dos dados de treinamento\n",
    "\n",
    "# print(f\"Total: {x}\"\n",
    "#       f\"\\n\\nx[0]: {x[0]}\"\n",
    "#       f\"\\n\\nx[1]: {x[1]}\"\n",
    "#       f\"\\n\\nPrimeiro par ordenado: ({x[0][0]}, {x[1][0]})\"\n",
    "#       f\"\\n\\nTamaho de m: {x[1].size}\"\n",
    "#       f\"\\nTamaho de n: {w.size}\"\n",
    "#       f\"\\n\\nTipo de b: {b.real}\")"
   ],
   "metadata": {
    "collapsed": false,
    "pycharm": {
     "name": "#%%\n"
    }
   }
  },
  {
   "cell_type": "code",
   "execution_count": 4,
   "outputs": [],
   "source": [
    "# Implementação não vetorizada\n",
    "\n",
    "def gradientDescentStep(x, w, b, alpha = 0.5):\n",
    "    J = 0; db = 0; m = x[1].size; n = w.size; dw = np.zeros((n, 1))\n",
    "    for i in range(m): # Calcula para cada uma das amostras (ex: (entrada, saída))\n",
    "        ajuste = w * x[0][i]          ##\\\n",
    "        aux = 0                       ##\\\n",
    "        for j in range(n):            ## - Calculo do valor estimado pela regressão logísitca\n",
    "            aux += ajuste[j]          ##/  para cada amostra específica (número entre 0 e 1)\n",
    "        ajuste = sigmoid(aux + b[0])     ##/\n",
    "\n",
    "        J += lostFunction(x[1][i], ajuste) # Calculo do erro desta amostra (adicionado ao contador que vai gerar a função de custo)\n",
    "        dz = ajuste - x[1][i] # calculo de dz\n",
    "\n",
    "        for j in range(n):    # calculo de cada derivada dos parâmetros de ajuste (adicionando ao contador para gerar um passo \"geral\" na direção correta)\n",
    "            dw[j] += x[0][i][j] * dz\n",
    "        db += dz\n",
    "    # Finalizado o cálculo do valor estimado para cada uma das amostras do exemplo\n",
    "\n",
    "    J /= m # Calculo da função de custo (o quão bem w e b estão ajustados para a amostra)\n",
    "    dw /= m # Calculo de cada uma das derivadas para se dar um passo em direção ao mínimo global (melhor ajuste)\n",
    "    db /= m # Calculo da derivada da constante b\n",
    "\n",
    "    # Reajuste dos valores para atingir um mínimo global\n",
    "    for j in range(n):\n",
    "        w[j] = w[j] - alpha * dw[j]\n",
    "    b[0] -= alpha * db"
   ],
   "metadata": {
    "collapsed": false,
    "pycharm": {
     "name": "#%%\n"
    }
   }
  },
  {
   "cell_type": "code",
   "execution_count": 5,
   "outputs": [],
   "source": [
    "# Implementação vetorizada\n",
    "\n",
    "# def gradientDescentStep(x, w, b, alpha):\n",
    "#    return 0"
   ],
   "metadata": {
    "collapsed": false,
    "pycharm": {
     "name": "#%%\n"
    }
   }
  },
  {
   "cell_type": "code",
   "execution_count": 30,
   "outputs": [],
   "source": [
    "# Treinar IA:\n",
    "epocas = 10000\n",
    "taxaDeAprendizagem = 0.5\n",
    "\n",
    "for i in range(epocas):\n",
    "    gradientDescentStep(x, w, b, taxaDeAprendizagem)"
   ],
   "metadata": {
    "collapsed": false,
    "pycharm": {
     "name": "#%%\n"
    }
   }
  },
  {
   "cell_type": "code",
   "execution_count": 31,
   "outputs": [
    {
     "name": "stdout",
     "output_type": "stream",
     "text": [
      "Precisão da IA: 50.65%\n",
      "\n"
     ]
    }
   ],
   "source": [
    "# Testando a IA:\n",
    "m = x[1].size; n = w.size\n",
    "outputFromIA = np.zeros(m)\n",
    "\n",
    "for i in range(m):\n",
    "    ajuste = w * x[0][i]                   ##\\\n",
    "    aux = 0                                ##\\\n",
    "    for j in range(n):                     ## - Calculo do valor estimado pela regressão logísitca\n",
    "        aux += ajuste[j]                   ##/  para cada amostra específica (número entre 0 e 1)\n",
    "    outputFromIA[i] = sigmoid(aux + b)     ##/\n",
    "\n",
    "precisao = 0\n",
    "for i in range(m):\n",
    "    if (outputFromIA[i] > 0.5) and (x[1][i] > 0.5):\n",
    "        precisao += 1\n",
    "    elif (outputFromIA[i] < 0.5) and (x[1][i] < 0.5):\n",
    "        precisao += 1\n",
    "\n",
    "precisao /= m\n",
    "\n",
    "print(f\"Precisão da IA: {precisao*100:.2f}%\\n\")\n",
    "\n",
    "# print(f\"\\nComparação de valores:\"\n",
    "#       f\"\\n\\nyEst\\t|\\tyReal\")\n",
    "# for i in range(m):\n",
    "#     print(f\"\\n{outputFromIA[i]:.2f}\\t|\\t{x[1][i]:.2f}\")\n"
   ],
   "metadata": {
    "collapsed": false,
    "pycharm": {
     "name": "#%%\n"
    }
   }
  },
  {
   "cell_type": "code",
   "execution_count": 32,
   "outputs": [
    {
     "name": "stdout",
     "output_type": "stream",
     "text": [
      "w:\t\tb: -1.2262473796928013\n",
      "[-0.80547321 -0.14943847 -1.25271188  0.24846966 -0.11110125  0.27488597\n",
      " -0.33268915 -0.03567462 -0.07315544 -0.24733469  0.38533312 -0.26292907\n",
      " -0.03950594 -0.26606532 -0.51220171 -0.18643167  0.38958006 -0.25994662\n",
      "  0.77618397 -0.39814437]\n"
     ]
    }
   ],
   "source": [
    "print(f\"w:\\t\\tb: {b[0]}\\n{w}\")"
   ],
   "metadata": {
    "collapsed": false,
    "pycharm": {
     "name": "#%%\n"
    }
   }
  },
  {
   "cell_type": "code",
   "execution_count": 29,
   "outputs": [
    {
     "name": "stdout",
     "output_type": "stream",
     "text": [
      "w:\t\tb: -1.2832185741358235\n",
      "[-0.80305409 -0.14696482 -1.2501182   0.25063807 -0.10889556  0.27697827\n",
      " -0.33076341 -0.03381548 -0.07126858 -0.24580235  0.38710093 -0.26046205\n",
      " -0.03797629 -0.26423372 -0.51036274 -0.18410931  0.39171011 -0.2586139\n",
      "  0.77888811 -0.39656924]\n"
     ]
    }
   ],
   "source": [
    "print(f\"w:\\t\\tb: {b[0]}\\n{w}\")"
   ],
   "metadata": {
    "collapsed": false,
    "pycharm": {
     "name": "#%%\n"
    }
   }
  }
 ],
 "metadata": {
  "kernelspec": {
   "display_name": "Python 3",
   "language": "python",
   "name": "python3"
  },
  "language_info": {
   "codemirror_mode": {
    "name": "ipython",
    "version": 2
   },
   "file_extension": ".py",
   "mimetype": "text/x-python",
   "name": "python",
   "nbconvert_exporter": "python",
   "pygments_lexer": "ipython2",
   "version": "2.7.6"
  }
 },
 "nbformat": 4,
 "nbformat_minor": 0
}